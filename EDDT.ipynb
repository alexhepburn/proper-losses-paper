{
 "cells": [
  {
   "cell_type": "code",
   "execution_count": 7,
   "metadata": {},
   "outputs": [],
   "source": [
    "%matplotlib inline\n",
    "from costcla.models import CostSensitiveRandomForestClassifier, CostSensitiveDecisionTreeClassifier, CostSensitiveLogisticRegression\n",
    "from costcla.metrics import cost_loss\n",
    "import pandas as pd \n",
    "import numpy as np \n",
    "import matplotlib.pyplot as plt\n",
    "import seaborn as sns\n",
    "from sklearn.metrics import f1_score, precision_score, recall_score, accuracy_score\n",
    "import random\n",
    "\n",
    "traindf = pd.read_hdf('./german/train_h5.h5', 'df')\n",
    "testdf = pd.read_hdf('./german/test_h5.h5', 'df')\n",
    "pd = traindf.append(testdf).reset_index()\n",
    "m = pd.amount.max()\n",
    "mc10, mc01 = pd.c10.max(), pd.c01.max()\n",
    "pd.c10 = [x/mc10 for x in list(pd.c10)]\n",
    "pd.c01 = [x/mc01 for x in list(pd.c01)]"
   ]
  },
  {
   "cell_type": "code",
   "execution_count": 9,
   "metadata": {},
   "outputs": [
    {
     "name": "stdout",
     "output_type": "stream",
     "text": [
      "0.47424988746655056 0.05803398781578242\n",
      "3.8869803668187304 0.8891039259798245\n",
      "0.6613794289645683 0.09577003863527359\n"
     ]
    }
   ],
   "source": [
    "accuracy = []\n",
    "misclass_cost = []\n",
    "toptenacc = []\n",
    "cost = []\n",
    "\n",
    "for i in range(0, 10):\n",
    "    msk = np.random.rand(len(pd)) < 0.8\n",
    "    traindf = pd[msk].reset_index()\n",
    "    testdf = pd[~msk].reset_index()\n",
    "\n",
    "    srt= np.sort(np.asarray(list(testdf['amount'])))\n",
    "    topten = srt[int(np.ceil(srt.shape[0]*0.90))]\n",
    "    toptendf = testdf.loc[testdf['amount'] > topten]\n",
    "\n",
    "    c10train, c10test = list(traindf['c10']), list(testdf['c10'])\n",
    "    c01train, c01test = list(traindf['c01']), list(testdf['c01'])\n",
    "\n",
    "    Y_test = list(testdf['label'])\n",
    "    totaltopten = 0\n",
    "    correcttopten = 0\n",
    "    misclass = []\n",
    "    forest = CostSensitiveDecisionTreeClassifier()\n",
    "    #forest = CostSensitiveRandomForestClassifier(n_estimators=)\n",
    "    xtrainlst = list(traindf['x'])\n",
    "    ind = [x for x in range(0, len(xtrainlst))]\n",
    "    random.shuffle(ind)\n",
    "\n",
    "    trainamount = list(traindf['amount'])\n",
    "    labels = list(traindf['label'])\n",
    "    Y_train = np.ones((len(xtrainlst)))\n",
    "    X_train = np.ones((len(xtrainlst), xtrainlst[0].shape[0]))\n",
    "    train_cost = np.ones((len(xtrainlst), 4))\n",
    "    for i in range (0, len(xtrainlst)):\n",
    "        X_train[ind[i], :] = xtrainlst[i]\n",
    "        Y_train[ind[i]] =  labels[i]\n",
    "        train_cost[ind[i], :] = [c10train[i], c01train[i], 0, 0]\n",
    "        \n",
    "    xtestlst = list(testdf['x'])\n",
    "    testamount = list(testdf['amount'])\n",
    "    X_test = np.ones((len(xtestlst), xtestlst[0].shape[0]))\n",
    "    test_cost = np.ones((len(xtestlst), 4))\n",
    "    for i in range (0, len(xtestlst)):\n",
    "        X_test[i, :] = xtestlst[i]\n",
    "        test_cost[i, :] = [c10test[i], c01test[i], 0, 0]\n",
    "\n",
    "    forest.fit(X_train, Y_train, train_cost)\n",
    "    pred = list(forest.predict(X_test))\n",
    "    misclass = []\n",
    "    l1 = []\n",
    "    l2 = []\n",
    "    for i in range(0, len(pred)):\n",
    "        if pred[i]!=Y_test[i]:\n",
    "            if pred[i] == 0:\n",
    "                misclass.append(test_cost[i, 0])\n",
    "            else:\n",
    "                misclass.append(test_cost[i, 1])\n",
    "            misclass.append(i)\n",
    "        if testamount[i] > topten:\n",
    "            totaltopten+=1\n",
    "            l1.append(Y_test[i])\n",
    "            l2.append(pred[i])\n",
    "            if pred[i]==Y_test[i]:\n",
    "                correcttopten+=1\n",
    "    toptenacc.append(accuracy_score(l1, l2))\n",
    "    misclass_cost.append(np.sum(misclass))\n",
    "    accuracy.append(accuracy_score(Y_test, pred))\n",
    "    cost.append(cost_loss(Y_test, pred, test_cost))\n",
    "\n",
    "print(np.mean(accuracy), np.std(accuracy))\n",
    "print(np.mean(cost), np.std(cost))\n",
    "print(np.mean(toptenacc), np.std(toptenacc))"
   ]
  },
  {
   "cell_type": "code",
   "execution_count": 11,
   "metadata": {},
   "outputs": [
    {
     "name": "stdout",
     "output_type": "stream",
     "text": [
      "47.42498874665505 5.803398781578243\n",
      "3.8869803668187304 0.8891039259798245\n",
      "66.13794289645682 9.57700386352736\n"
     ]
    }
   ],
   "source": [
    "print(np.mean(accuracy)*100, np.std(accuracy)*100)\n",
    "print(np.mean(cost), np.std(cost))\n",
    "print(np.mean(toptenacc)*100, np.std(toptenacc)*100)"
   ]
  }
 ],
 "metadata": {
  "kernelspec": {
   "display_name": "Python 3",
   "language": "python",
   "name": "python3"
  },
  "language_info": {
   "codemirror_mode": {
    "name": "ipython",
    "version": 3
   },
   "file_extension": ".py",
   "mimetype": "text/x-python",
   "name": "python",
   "nbconvert_exporter": "python",
   "pygments_lexer": "ipython3",
   "version": "3.6.3"
  }
 },
 "nbformat": 4,
 "nbformat_minor": 2
}
